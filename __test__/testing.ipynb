{
 "cells": [
  {
   "cell_type": "markdown",
   "metadata": {},
   "source": [
    "# Text to prolog writes"
   ]
  },
  {
   "cell_type": "code",
   "execution_count": 10,
   "metadata": {},
   "outputs": [
    {
     "name": "stdout",
     "output_type": "stream",
     "text": [
      "write(\"Κατάλληλο σπίτι στην διεύθυνση: \"), \n",
      "write(\"Υπνοδωμάτια: \"), \n",
      "write(\"Εμβαδόν: \"), \n",
      "write(\"Εμβαδόν κήπου: \"), \n",
      "write(\"Είναι στο κέντρο της πόλης: \"), \n",
      "write(\"Επιτρέπονται κατοικίδια: \"), \n",
      "write(\"Όροφος: \"), \n",
      "write(\"Ανελκυστήρας: \"), \n",
      "write(\"Ενοίκιο: \"), \n"
     ]
    }
   ],
   "source": [
    "text = '''\\\n",
    "Κατάλληλο σπίτι στην διεύθυνση: \n",
    "Υπνοδωμάτια: \n",
    "Εμβαδόν: \n",
    "Εμβαδόν κήπου: \n",
    "Είναι στο κέντρο της πόλης: \n",
    "Επιτρέπονται κατοικίδια: \n",
    "Όροφος: \n",
    "Ανελκυστήρας: \n",
    "Ενοίκιο: \\\n",
    "'''\n",
    "\n",
    "for line in text.split('\\n'):\n",
    "    print('write(\"%s\"), '%line)"
   ]
  },
  {
   "cell_type": "markdown",
   "metadata": {},
   "source": [
    "# Print header comment"
   ]
  },
  {
   "cell_type": "code",
   "execution_count": 8,
   "metadata": {},
   "outputs": [
    {
     "name": "stdout",
     "output_type": "stream",
     "text": [
      "/* -------------------------------- *|\n",
      "|* -- Εκτύπωση στοιχείων σπιτιών -- *|\n",
      "|* -------------------------------- */ \n"
     ]
    }
   ],
   "source": [
    "text = '''\\\n",
    "Εκτύπωση στοιχείων σπιτιών'''\n",
    "\n",
    "lines = text.split('\\n')\n",
    "\n",
    "maxl = max([len(x) for x in lines])\n",
    "\n",
    "print(\"/* ---%s--- *|\"%('-'*maxl))\n",
    "for l in lines:\n",
    "    print('|* --%s %s %s-- *|'%(max(0, ( maxl - len(l)) // 2) * \" \", l, max(0, ( maxl - len(l)) // 2) * \" \"))\n",
    "print(\"|* ---%s--- */ \"%('-'*maxl))\n"
   ]
  }
 ],
 "metadata": {
  "interpreter": {
   "hash": "a51dea313f5ad2d2a194fae9ac93a8d8457e9fcb53513791cec3f25ee45211b7"
  },
  "kernelspec": {
   "display_name": "Python 3.7.11 ('ML_Course')",
   "language": "python",
   "name": "python3"
  },
  "language_info": {
   "codemirror_mode": {
    "name": "ipython",
    "version": 3
   },
   "file_extension": ".py",
   "mimetype": "text/x-python",
   "name": "python",
   "nbconvert_exporter": "python",
   "pygments_lexer": "ipython3",
   "version": "3.7.11"
  },
  "orig_nbformat": 4
 },
 "nbformat": 4,
 "nbformat_minor": 2
}
